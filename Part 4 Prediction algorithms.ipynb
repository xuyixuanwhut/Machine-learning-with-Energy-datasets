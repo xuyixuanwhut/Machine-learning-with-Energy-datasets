{
 "cells": [
  {
   "cell_type": "code",
   "execution_count": 2,
   "metadata": {},
   "outputs": [],
   "source": [
    "#part 4\n",
    "%matplotlib inline\n",
    "%config InlineBackend.figure_format='retina'\n",
    "import pandas as pd\n",
    "import numpy as np\n",
    "from sklearn.model_selection import train_test_split\n",
    "from sklearn import preprocessing\n",
    "import math\n",
    "from sklearn.metrics import *\n",
    "from sklearn.ensemble import RandomForestRegressor\n",
    "from sklearn.neural_network import MLPClassifier"
   ]
  },
  {
   "cell_type": "code",
   "execution_count": 3,
   "metadata": {},
   "outputs": [
    {
     "name": "stdout",
     "output_type": "stream",
     "text": [
      "<class 'pandas.core.frame.DataFrame'>\n",
      "RangeIndex: 19735 entries, 0 to 19734\n",
      "Data columns (total 39 columns):\n",
      "date                      19735 non-null object\n",
      "Appliances                19735 non-null int64\n",
      "lights                    19735 non-null int64\n",
      "T1                        19735 non-null float64\n",
      "RH_1                      19735 non-null float64\n",
      "T2                        19735 non-null float64\n",
      "RH_2                      19735 non-null float64\n",
      "T3                        19735 non-null float64\n",
      "RH_3                      19735 non-null float64\n",
      "T4                        19735 non-null float64\n",
      "RH_4                      19735 non-null float64\n",
      "T5                        19735 non-null float64\n",
      "RH_5                      19735 non-null float64\n",
      "T6                        19735 non-null float64\n",
      "RH_6                      19735 non-null float64\n",
      "T7                        19735 non-null float64\n",
      "RH_7                      19735 non-null float64\n",
      "T8                        19735 non-null float64\n",
      "RH_8                      19735 non-null float64\n",
      "T9                        19735 non-null float64\n",
      "RH_9                      19735 non-null float64\n",
      "T_out                     19735 non-null float64\n",
      "Press_mm_hg               19735 non-null float64\n",
      "RH_out                    19735 non-null float64\n",
      "Windspeed                 19735 non-null float64\n",
      "Visibility                19735 non-null float64\n",
      "Tdewpoint                 19735 non-null float64\n",
      "rv1                       19735 non-null float64\n",
      "rv2                       19735 non-null float64\n",
      "NSM                       19735 non-null float64\n",
      "Dayoftheweek_Friday       19735 non-null uint8\n",
      "Dayoftheweek_Monday       19735 non-null uint8\n",
      "Dayoftheweek_Saturday     19735 non-null uint8\n",
      "Dayoftheweek_Sunday       19735 non-null uint8\n",
      "Dayoftheweek_Thursday     19735 non-null uint8\n",
      "Dayoftheweek_Tuesday      19735 non-null uint8\n",
      "Dayoftheweek_Wednesday    19735 non-null uint8\n",
      "Weekdaystatus_Weekday     19735 non-null uint8\n",
      "Weekdaystatus_Weekend     19735 non-null uint8\n",
      "dtypes: float64(27), int64(2), object(1), uint8(9)\n",
      "memory usage: 4.7+ MB\n"
     ]
    }
   ],
   "source": [
    "from Feature_Engineering import DfAfterFE\n",
    "\n",
    "df = pd.read_csv('energydata_complete.csv')\n",
    "df1 = DfAfterFE(df)\n",
    "df1.feature_engineering()\n",
    "new_df = df1.df\n",
    "new_df.info()"
   ]
  },
  {
   "cell_type": "code",
   "execution_count": 6,
   "metadata": {},
   "outputs": [],
   "source": [
    "X = new_df.drop(columns=['date', 'Appliances', 'rv1', 'rv2'])\n",
    "y = new_df['Appliances']\n",
    "X_train, X_test, y_train, y_test = train_test_split(X, y, random_state=0)"
   ]
  },
  {
   "cell_type": "code",
   "execution_count": 7,
   "metadata": {},
   "outputs": [],
   "source": [
    "from Error_Metrics import ErrorMetrics\n",
    "\n",
    "error_metrics = ErrorMetrics(X_train, y_train, X_test, y_test)"
   ]
  },
  {
   "cell_type": "code",
   "execution_count": 9,
   "metadata": {},
   "outputs": [
    {
     "name": "stdout",
     "output_type": "stream",
     "text": [
      "Regression completed\n"
     ]
    }
   ],
   "source": [
    "#linear regression\n",
    "from sklearn.linear_model import LinearRegression\n",
    "lm = LinearRegression()\n",
    "lm.fit(X_train, y_train)\n",
    "error_metrics.cal_metric('Linear Regression', lm)\n",
    "print('Regression completed')"
   ]
  },
  {
   "cell_type": "code",
   "execution_count": 12,
   "metadata": {},
   "outputs": [
    {
     "name": "stdout",
     "output_type": "stream",
     "text": [
      "RandomForest completed\n"
     ]
    }
   ],
   "source": [
    "#Random Forest \n",
    "rf = RandomForestRegressor(n_estimators=100)\n",
    "rf.fit(X_train, y_train)\n",
    "error_metrics.cal_metric('Random Forest', rf)\n",
    "print('RandomForest completed')"
   ]
  },
  {
   "cell_type": "code",
   "execution_count": 15,
   "metadata": {},
   "outputs": [
    {
     "name": "stdout",
     "output_type": "stream",
     "text": [
      "Neural Network completed\n"
     ]
    }
   ],
   "source": [
    "# Neural network\n",
    "nn = MLPClassifier()\n",
    "nn.fit(X_train, y_train)\n",
    "error_metrics.cal_metric('Neural Network', nn)\n",
    "print('Neural Network completed')"
   ]
  },
  {
   "cell_type": "code",
   "execution_count": 16,
   "metadata": {},
   "outputs": [
    {
     "data": {
      "text/html": [
       "<div>\n",
       "<style scoped>\n",
       "    .dataframe tbody tr th:only-of-type {\n",
       "        vertical-align: middle;\n",
       "    }\n",
       "\n",
       "    .dataframe tbody tr th {\n",
       "        vertical-align: top;\n",
       "    }\n",
       "\n",
       "    .dataframe thead th {\n",
       "        text-align: right;\n",
       "    }\n",
       "</style>\n",
       "<table border=\"1\" class=\"dataframe\">\n",
       "  <thead>\n",
       "    <tr style=\"text-align: right;\">\n",
       "      <th></th>\n",
       "      <th>Model</th>\n",
       "      <th>mae_test</th>\n",
       "      <th>mae_train</th>\n",
       "      <th>mape_test</th>\n",
       "      <th>mape_train</th>\n",
       "      <th>r_test</th>\n",
       "      <th>r_train</th>\n",
       "      <th>rmse_test</th>\n",
       "      <th>rmse_train</th>\n",
       "    </tr>\n",
       "  </thead>\n",
       "  <tbody>\n",
       "    <tr>\n",
       "      <th>0</th>\n",
       "      <td>Linear Regression</td>\n",
       "      <td>54.145228</td>\n",
       "      <td>51.905148</td>\n",
       "      <td>60.588860</td>\n",
       "      <td>59.907541</td>\n",
       "      <td>0.154850</td>\n",
       "      <td>0.180181</td>\n",
       "      <td>97.610095</td>\n",
       "      <td>91.692803</td>\n",
       "    </tr>\n",
       "    <tr>\n",
       "      <th>0</th>\n",
       "      <td>Random Forest</td>\n",
       "      <td>34.028861</td>\n",
       "      <td>11.824019</td>\n",
       "      <td>31.786667</td>\n",
       "      <td>11.706005</td>\n",
       "      <td>0.519976</td>\n",
       "      <td>0.937836</td>\n",
       "      <td>73.562965</td>\n",
       "      <td>25.249015</td>\n",
       "    </tr>\n",
       "    <tr>\n",
       "      <th>0</th>\n",
       "      <td>Neural Network</td>\n",
       "      <td>52.626672</td>\n",
       "      <td>50.659415</td>\n",
       "      <td>53.687344</td>\n",
       "      <td>53.263843</td>\n",
       "      <td>0.015207</td>\n",
       "      <td>0.022670</td>\n",
       "      <td>105.365963</td>\n",
       "      <td>100.114488</td>\n",
       "    </tr>\n",
       "  </tbody>\n",
       "</table>\n",
       "</div>"
      ],
      "text/plain": [
       "               Model   mae_test  mae_train  mape_test  mape_train    r_test  \\\n",
       "0  Linear Regression  54.145228  51.905148  60.588860   59.907541  0.154850   \n",
       "0      Random Forest  34.028861  11.824019  31.786667   11.706005  0.519976   \n",
       "0     Neural Network  52.626672  50.659415  53.687344   53.263843  0.015207   \n",
       "\n",
       "    r_train   rmse_test  rmse_train  \n",
       "0  0.180181   97.610095   91.692803  \n",
       "0  0.937836   73.562965   25.249015  \n",
       "0  0.022670  105.365963  100.114488  "
      ]
     },
     "execution_count": 16,
     "metadata": {},
     "output_type": "execute_result"
    }
   ],
   "source": [
    "error_metrics.error_metric"
   ]
  },
  {
   "cell_type": "code",
   "execution_count": null,
   "metadata": {},
   "outputs": [],
   "source": []
  }
 ],
 "metadata": {
  "kernelspec": {
   "display_name": "Python 2",
   "language": "python",
   "name": "python2"
  },
  "language_info": {
   "codemirror_mode": {
    "name": "ipython",
    "version": 2
   },
   "file_extension": ".py",
   "mimetype": "text/x-python",
   "name": "python",
   "nbconvert_exporter": "python",
   "pygments_lexer": "ipython2",
   "version": "2.7.10"
  }
 },
 "nbformat": 4,
 "nbformat_minor": 1
}
