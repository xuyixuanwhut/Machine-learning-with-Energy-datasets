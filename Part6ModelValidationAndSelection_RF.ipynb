{
 "cells": [
  {
   "cell_type": "code",
   "execution_count": 5,
   "metadata": {},
   "outputs": [],
   "source": [
    "#part 6\n",
    "%matplotlib inline\n",
    "%config InlineBackend.figure_format='retina'\n",
    "import pandas as pd\n",
    "import matplotlib.pyplot as plt \n",
    "from pandas.tools.plotting import scatter_matrix\n",
    "from scipy import stats\n",
    "from scipy.stats import uniform as sp_rand\n",
    "import random\n",
    "import numpy as np\n",
    "from sklearn.model_selection import train_test_split\n",
    "from sklearn.preprocessing import PolynomialFeatures\n",
    "from sklearn.metrics import *\n",
    "from sklearn import model_selection\n",
    "from sklearn.linear_model import Lasso\n",
    "from sklearn.model_selection import cross_val_score\n",
    "from sklearn.metrics import accuracy_score\n",
    "import math\n",
    "from sklearn.neural_network import MLPClassifier\n",
    "from sklearn import preprocessing\n",
    "from sklearn.linear_model import LinearRegression\n",
    "from sklearn.linear_model import  Ridge, ElasticNet\n",
    "from sklearn.model_selection import RandomizedSearchCV\n",
    "from sklearn.ensemble import RandomForestRegressor"
   ]
  },
  {
   "cell_type": "code",
   "execution_count": 2,
   "metadata": {},
   "outputs": [
    {
     "name": "stdout",
     "output_type": "stream",
     "text": [
      "<class 'pandas.core.frame.DataFrame'>\n",
      "RangeIndex: 19735 entries, 0 to 19734\n",
      "Data columns (total 35 columns):\n",
      "lights                    19735 non-null int64\n",
      "T1                        19735 non-null float64\n",
      "RH_1                      19735 non-null float64\n",
      "T2                        19735 non-null float64\n",
      "RH_2                      19735 non-null float64\n",
      "T3                        19735 non-null float64\n",
      "RH_3                      19735 non-null float64\n",
      "T4                        19735 non-null float64\n",
      "RH_4                      19735 non-null float64\n",
      "T5                        19735 non-null float64\n",
      "RH_5                      19735 non-null float64\n",
      "T6                        19735 non-null float64\n",
      "RH_6                      19735 non-null float64\n",
      "T7                        19735 non-null float64\n",
      "RH_7                      19735 non-null float64\n",
      "T8                        19735 non-null float64\n",
      "RH_8                      19735 non-null float64\n",
      "T9                        19735 non-null float64\n",
      "RH_9                      19735 non-null float64\n",
      "T_out                     19735 non-null float64\n",
      "Press_mm_hg               19735 non-null float64\n",
      "RH_out                    19735 non-null float64\n",
      "Windspeed                 19735 non-null float64\n",
      "Visibility                19735 non-null float64\n",
      "Tdewpoint                 19735 non-null float64\n",
      "NSM                       19735 non-null float64\n",
      "Dayoftheweek_Friday       19735 non-null uint8\n",
      "Dayoftheweek_Monday       19735 non-null uint8\n",
      "Dayoftheweek_Saturday     19735 non-null uint8\n",
      "Dayoftheweek_Sunday       19735 non-null uint8\n",
      "Dayoftheweek_Thursday     19735 non-null uint8\n",
      "Dayoftheweek_Tuesday      19735 non-null uint8\n",
      "Dayoftheweek_Wednesday    19735 non-null uint8\n",
      "Weekdaystatus_Weekday     19735 non-null uint8\n",
      "Weekdaystatus_Weekend     19735 non-null uint8\n",
      "dtypes: float64(25), int64(1), uint8(9)\n",
      "memory usage: 4.1 MB\n"
     ]
    }
   ],
   "source": [
    "from Feature_Engineering import DfAfterFE\n",
    "\n",
    "df = pd.read_csv('energydata_complete.csv')\n",
    "df1 = DfAfterFE(df)\n",
    "df1.feature_engineering()\n",
    "new_df = df1.df\n",
    "X = new_df.drop(columns=['date', 'Appliances', 'rv1', 'rv2'])\n",
    "X.info()\n",
    "y = new_df['Appliances']\n",
    "X_train, X_test, y_train, y_test = train_test_split(X, y, random_state=0)"
   ]
  },
  {
   "cell_type": "markdown",
   "metadata": {},
   "source": [
    "# find appropriate parameters for random forest regressor"
   ]
  },
  {
   "cell_type": "code",
   "execution_count": 3,
   "metadata": {},
   "outputs": [],
   "source": [
    "scores = []\n",
    "estimators = np.arange(1,500,100)\n",
    "for estimator in estimators:\n",
    "    rf = RandomForestRegressor(n_estimators = estimator , random_state = 0)\n",
    "    this_score = np.mean(model_selection.cross_val_score(rf, X_train, y_train, cv=10))\n",
    "    scores.append(this_score)"
   ]
  },
  {
   "cell_type": "code",
   "execution_count": 4,
   "metadata": {
    "scrolled": true
   },
   "outputs": [
    {
     "data": {
      "image/png": "[encoded data removed]",
      "text/plain": [
       "<Figure size 432x288 with 1 Axes>"
      ]
     },
     "metadata": {
      "image/png": {
       "height": 250,
       "width": 373
      }
     },
     "output_type": "display_data"
    }
   ],
   "source": [
    "plt.plot(estimators, np.array(scores), '-b')\n",
    "plt.grid()\n",
    "plt.show()\n",
    "max_score = np.max(scores)\n",
    "max_score_pos = scores.index(max_score)\n",
    "optimal_num_trees = estimators[max_score_pos]"
   ]
  },
  {
   "cell_type": "code",
   "execution_count": 7,
   "metadata": {},
   "outputs": [
    {
     "name": "stdout",
     "output_type": "stream",
     "text": [
      "[0.011294046003472221, 0.54681793699715, 0.5503834130395859, 0.5517797097805641, 0.5520494464939416]\n"
     ]
    }
   ],
   "source": [
    "print scores"
   ]
  },
  {
   "cell_type": "code",
   "execution_count": 32,
   "metadata": {},
   "outputs": [
    {
     "name": "stdout",
     "output_type": "stream",
     "text": [
      "[72.06886702526019]\n",
      "[72.06886702526019, 72.02594200614807]\n",
      "[72.06886702526019, 72.02594200614807, 71.98327472852729]\n",
      "[72.06886702526019, 72.02594200614807, 71.98327472852729, 71.93882065608142]\n",
      "[72.06886702526019, 72.02594200614807, 71.98327472852729, 71.93882065608142, 72.04946271029168]\n",
      "[72.06886702526019, 72.02594200614807, 71.98327472852729, 71.93882065608142, 72.04946271029168, 71.99332444265696]\n",
      "[72.06886702526019, 72.02594200614807, 71.98327472852729, 71.93882065608142, 72.04946271029168, 71.99332444265696, 72.00138795438191]\n",
      "[72.06886702526019, 72.02594200614807, 71.98327472852729, 71.93882065608142, 72.04946271029168, 71.99332444265696, 72.00138795438191, 72.00103481641462]\n",
      "[72.06886702526019, 72.02594200614807, 71.98327472852729, 71.93882065608142, 72.04946271029168, 71.99332444265696, 72.00138795438191, 72.00103481641462, 71.97898521316228]\n",
      "[72.06886702526019, 72.02594200614807, 71.98327472852729, 71.93882065608142, 72.04946271029168, 71.99332444265696, 72.00138795438191, 72.00103481641462, 71.97898521316228, 72.01882062166634]\n"
     ]
    },
    {
     "data": {
      "text/plain": [
       "[<matplotlib.lines.Line2D at 0x117173a10>]"
      ]
     },
     "execution_count": 32,
     "metadata": {},
     "output_type": "execute_result"
    },
    {
     "data": {
      "image/png": "[encoded data removed]",
      "text/plain": [
       "<Figure size 432x288 with 1 Axes>"
      ]
     },
     "metadata": {
      "image/png": {
       "height": 250,
       "width": 386
      }
     },
     "output_type": "display_data"
    }
   ],
   "source": [
    "depth_list = []\n",
    "rmse_test_list = []\n",
    "for i in range(25, 35):\n",
    "    rf = RandomForestRegressor(n_estimators=200, max_depth=i)\n",
    "    depth_list.append(i)\n",
    "    rmse_test = model_selection.cross_val_score(rf, X_train, y_train, n_jobs=5, cv=3, scoring='neg_mean_squared_error')\n",
    "    rmse_test_list.append(math.sqrt(np.mean(-rmse_test)))\n",
    "    print rmse_test_list\n",
    "\n",
    "plt.plot(depth_list, rmse_test_list, '--r')"
   ]
  },
  {
   "cell_type": "code",
   "execution_count": 9,
   "metadata": {},
   "outputs": [
    {
     "data": {
      "text/html": [
       "<div>\n",
       "<style scoped>\n",
       "    .dataframe tbody tr th:only-of-type {\n",
       "        vertical-align: middle;\n",
       "    }\n",
       "\n",
       "    .dataframe tbody tr th {\n",
       "        vertical-align: top;\n",
       "    }\n",
       "\n",
       "    .dataframe thead th {\n",
       "        text-align: right;\n",
       "    }\n",
       "</style>\n",
       "<table border=\"1\" class=\"dataframe\">\n",
       "  <thead>\n",
       "    <tr style=\"text-align: right;\">\n",
       "      <th></th>\n",
       "      <th>Model</th>\n",
       "      <th>mae_test</th>\n",
       "      <th>mae_train</th>\n",
       "      <th>mape_test</th>\n",
       "      <th>mape_train</th>\n",
       "      <th>r_test</th>\n",
       "      <th>r_train</th>\n",
       "      <th>rmse_test</th>\n",
       "      <th>rmse_train</th>\n",
       "    </tr>\n",
       "  </thead>\n",
       "  <tbody>\n",
       "    <tr>\n",
       "      <th>0</th>\n",
       "      <td>Quadratic Linear Regression</td>\n",
       "      <td>50.305300</td>\n",
       "      <td>46.264116</td>\n",
       "      <td>56.003835</td>\n",
       "      <td>53.470374</td>\n",
       "      <td>0.306722</td>\n",
       "      <td>0.386887</td>\n",
       "      <td>88.405929</td>\n",
       "      <td>79.295166</td>\n",
       "    </tr>\n",
       "    <tr>\n",
       "      <th>0</th>\n",
       "      <td>Random Forest</td>\n",
       "      <td>34.031849</td>\n",
       "      <td>11.954068</td>\n",
       "      <td>31.901336</td>\n",
       "      <td>12.071304</td>\n",
       "      <td>0.519952</td>\n",
       "      <td>0.938554</td>\n",
       "      <td>73.564821</td>\n",
       "      <td>25.102843</td>\n",
       "    </tr>\n",
       "    <tr>\n",
       "      <th>0</th>\n",
       "      <td>Neural Network</td>\n",
       "      <td>53.737333</td>\n",
       "      <td>51.801905</td>\n",
       "      <td>35.312893</td>\n",
       "      <td>35.235218</td>\n",
       "      <td>-0.215938</td>\n",
       "      <td>-0.216746</td>\n",
       "      <td>117.080241</td>\n",
       "      <td>111.705973</td>\n",
       "    </tr>\n",
       "  </tbody>\n",
       "</table>\n",
       "</div>"
      ],
      "text/plain": [
       "                         Model   mae_test  mae_train  mape_test  mape_train  \\\n",
       "0  Quadratic Linear Regression  50.305300  46.264116  56.003835   53.470374   \n",
       "0                Random Forest  34.031849  11.954068  31.901336   12.071304   \n",
       "0               Neural Network  53.737333  51.801905  35.312893   35.235218   \n",
       "\n",
       "     r_test   r_train   rmse_test  rmse_train  \n",
       "0  0.306722  0.386887   88.405929   79.295166  \n",
       "0  0.519952  0.938554   73.564821   25.102843  \n",
       "0 -0.215938 -0.216746  117.080241  111.705973  "
      ]
     },
     "execution_count": 9,
     "metadata": {},
     "output_type": "execute_result"
    }
   ],
   "source": [
    "from Error_Metrics import ErrorMetrics\n",
    "\n",
    "model = PolynomialFeatures(degree=2)\n",
    "X_train_ = model.fit_transform(X_train)\n",
    "X_test_ = model.fit_transform(X_test)\n",
    "\n",
    "error_metrics = ErrorMetrics(X_train_, y_train, X_test_, y_test)\n",
    "\n",
    "lm = LinearRegression()\n",
    "lm.fit(X_train_, y_train)\n",
    "\n",
    "error_metrics.cal_metric('Quadratic Linear Regression', lm)\n",
    "\n",
    "optimal_rf = RandomForestRegressor(n_estimators=200, max_depth=28)\n",
    "optimal_rf.fit(X_train, y_train)\n",
    "optimal_nn = MLPClassifier(hidden_layer_sizes=(50,), max_iter=10000,batch_size=600,\n",
    "                    solver='sgd',  random_state=1,activation=\"logistic\",learning_rate=\"constant\",\n",
    "                          alpha=0.01, momentum=0.7, learning_rate_init=0.01)\n",
    "optimal_nn.fit(X_train, y_train)\n",
    "\n",
    "error_metrics.X_train = X_train\n",
    "error_metrics.X_test = X_test\n",
    "error_metrics.cal_metric('Random Forest', optimal_rf)\n",
    "error_metrics.cal_metric('Neural Network', optimal_nn)\n",
    "error_metrics.error_metric"
   ]
  },
  {
   "cell_type": "code",
   "execution_count": 18,
   "metadata": {},
   "outputs": [],
   "source": [
    "quadratic_scores = model_selection.cross_val_score(lm, X_train_, y_train, cv=10, scoring='neg_mean_squared_error')"
   ]
  },
  {
   "cell_type": "code",
   "execution_count": 11,
   "metadata": {},
   "outputs": [],
   "source": [
    "rf_scores = model_selection.cross_val_score(optimal_rf, X_train, y_train, cv=10, scoring='neg_mean_squared_error')"
   ]
  },
  {
   "cell_type": "code",
   "execution_count": 32,
   "metadata": {},
   "outputs": [
    {
     "name": "stderr",
     "output_type": "stream",
     "text": [
      "/Users/marcus/venv0/lib/python2.7/site-packages/sklearn/model_selection/_split.py:605: Warning: The least populated class in y has only 1 members, which is too few. The minimum number of members in any class cannot be less than n_splits=5.\n",
      "  % (min_groups, self.n_splits)), Warning)\n"
     ]
    }
   ],
   "source": [
    "nn_scores = model_selection.cross_val_score(optimal_nn, X_train, y_train, cv=10, scoring='neg_mean_squared_error')"
   ]
  },
  {
   "cell_type": "code",
   "execution_count": 33,
   "metadata": {},
   "outputs": [],
   "source": [
    "lm_rmse = [math.sqrt(-quadratic_scores[i]) for i in range(len(rf_scores))]\n",
    "rf_rmse = [math.sqrt(-rf_scores[i]) for i in range(len(rf_scores))]\n",
    "nn_rmse = [math.sqrt(-nn_scores[i]) for i in range(len(rf_scores))]"
   ]
  },
  {
   "cell_type": "code",
   "execution_count": 49,
   "metadata": {},
   "outputs": [
    {
     "data": {
      "image/png": "[encoded data removed]",
      "text/plain": [
       "<Figure size 720x360 with 1 Axes>"
      ]
     },
     "metadata": {
      "image/png": {
       "height": 331,
       "width": 575
      }
     },
     "output_type": "display_data"
    }
   ],
   "source": [
    "from scipy.stats.distributions import t as tdist\n",
    "\n",
    "alpha = 0.95\n",
    "legends = []\n",
    "y1 = lm_rmse\n",
    "mean1 = np.mean(y1)\n",
    "std1 = np.std(y1)\n",
    "conf_interval1 = tdist.ppf(1-alpha/2., len(y1) -1) * std*np.sqrt(1.+1./len(y1))\n",
    "legends.append('Quadratic Model')\n",
    "\n",
    "y2 = rf_rmse\n",
    "mean2 = np.mean(y2)\n",
    "std2 = np.std(y2)\n",
    "conf_interval2 = tdist.ppf(1-alpha/2., len(y2) -1) * std*np.sqrt(1.+1./len(y2))\n",
    "legends.append('Random Forest')\n",
    "\n",
    "y3 = nn_rmse\n",
    "mean3 = np.mean(y3)\n",
    "std3 = np.std(y3)\n",
    "conf_interval3 = tdist.ppf(1-alpha/2., len(y3) -1) * std*np.sqrt(1.+1./len(y3))\n",
    "legends.append('Neural Network')\n",
    "\n",
    "\n",
    "plt.figure(figsize=(10,5))\n",
    "fig = plt.gca()\n",
    "line1 = plt.errorbar(mean1,1, xerr=conf_interval1, fmt='-o')\n",
    "line2 = plt.errorbar(mean2,2, xerr=conf_interval2, fmt='-o')\n",
    "line3 = plt.errorbar(mean3,3, xerr=conf_interval3, fmt='-o')\n",
    "plt.legend(['Linear', 'Random Forest', 'Neural Net'],\n",
    "           loc='upper left',\n",
    "           numpoints=1,\n",
    "           fancybox=True)\n",
    "fig.axes.get_yaxis().set_visible(False)\n",
    "fig.set_label\n",
    "plt.xlabel('RMSE')\n",
    "plt.title('Trained models comparison of RMSE')\n",
    "plt.show()"
   ]
  },
  {
   "cell_type": "code",
   "execution_count": 52,
   "metadata": {},
   "outputs": [
    {
     "data": {
      "text/plain": [
       "RandomForestRegressor(bootstrap=True, criterion='mse', max_depth=28,\n",
       "           max_features=0.8, max_leaf_nodes=None,\n",
       "           min_impurity_decrease=0.0, min_impurity_split=None,\n",
       "           min_samples_leaf=1, min_samples_split=7,\n",
       "           min_weight_fraction_leaf=0.0, n_estimators=200, n_jobs=1,\n",
       "           oob_score=False, random_state=None, verbose=0, warm_start=False)"
      ]
     },
     "execution_count": 52,
     "metadata": {},
     "output_type": "execute_result"
    }
   ],
   "source": [
    "optimal_rf2 = RandomForestRegressor(n_estimators=200, max_depth=28, max_features=0.8, \n",
    "                                   min_samples_leaf=1, min_samples_split=7)\n",
    "optimal_rf2.fit(X_train, y_train)"
   ]
  },
  {
   "cell_type": "code",
   "execution_count": 55,
   "metadata": {},
   "outputs": [
    {
     "data": {
      "text/html": [
       "<div>\n",
       "<style scoped>\n",
       "    .dataframe tbody tr th:only-of-type {\n",
       "        vertical-align: middle;\n",
       "    }\n",
       "\n",
       "    .dataframe tbody tr th {\n",
       "        vertical-align: top;\n",
       "    }\n",
       "\n",
       "    .dataframe thead th {\n",
       "        text-align: right;\n",
       "    }\n",
       "</style>\n",
       "<table border=\"1\" class=\"dataframe\">\n",
       "  <thead>\n",
       "    <tr style=\"text-align: right;\">\n",
       "      <th></th>\n",
       "      <th>Model</th>\n",
       "      <th>mae_test</th>\n",
       "      <th>mae_train</th>\n",
       "      <th>mape_test</th>\n",
       "      <th>mape_train</th>\n",
       "      <th>r_test</th>\n",
       "      <th>r_train</th>\n",
       "      <th>rmse_test</th>\n",
       "      <th>rmse_train</th>\n",
       "    </tr>\n",
       "  </thead>\n",
       "  <tbody>\n",
       "    <tr>\n",
       "      <th>0</th>\n",
       "      <td>Quadratic Linear Regression</td>\n",
       "      <td>50.305300</td>\n",
       "      <td>46.264116</td>\n",
       "      <td>56.003835</td>\n",
       "      <td>53.470374</td>\n",
       "      <td>0.306722</td>\n",
       "      <td>0.386887</td>\n",
       "      <td>88.405929</td>\n",
       "      <td>79.295166</td>\n",
       "    </tr>\n",
       "    <tr>\n",
       "      <th>0</th>\n",
       "      <td>Random Forest</td>\n",
       "      <td>34.031849</td>\n",
       "      <td>11.954068</td>\n",
       "      <td>31.901336</td>\n",
       "      <td>12.071304</td>\n",
       "      <td>0.519952</td>\n",
       "      <td>0.938554</td>\n",
       "      <td>73.564821</td>\n",
       "      <td>25.102843</td>\n",
       "    </tr>\n",
       "    <tr>\n",
       "      <th>0</th>\n",
       "      <td>Neural Network</td>\n",
       "      <td>53.737333</td>\n",
       "      <td>51.801905</td>\n",
       "      <td>35.312893</td>\n",
       "      <td>35.235218</td>\n",
       "      <td>-0.215938</td>\n",
       "      <td>-0.216746</td>\n",
       "      <td>117.080241</td>\n",
       "      <td>111.705973</td>\n",
       "    </tr>\n",
       "    <tr>\n",
       "      <th>0</th>\n",
       "      <td>Random Forest2</td>\n",
       "      <td>35.055201</td>\n",
       "      <td>16.466893</td>\n",
       "      <td>33.017050</td>\n",
       "      <td>16.356763</td>\n",
       "      <td>0.505697</td>\n",
       "      <td>0.878334</td>\n",
       "      <td>74.649081</td>\n",
       "      <td>35.323346</td>\n",
       "    </tr>\n",
       "  </tbody>\n",
       "</table>\n",
       "</div>"
      ],
      "text/plain": [
       "                         Model   mae_test  mae_train  mape_test  mape_train  \\\n",
       "0  Quadratic Linear Regression  50.305300  46.264116  56.003835   53.470374   \n",
       "0                Random Forest  34.031849  11.954068  31.901336   12.071304   \n",
       "0               Neural Network  53.737333  51.801905  35.312893   35.235218   \n",
       "0               Random Forest2  35.055201  16.466893  33.017050   16.356763   \n",
       "\n",
       "     r_test   r_train   rmse_test  rmse_train  \n",
       "0  0.306722  0.386887   88.405929   79.295166  \n",
       "0  0.519952  0.938554   73.564821   25.102843  \n",
       "0 -0.215938 -0.216746  117.080241  111.705973  \n",
       "0  0.505697  0.878334   74.649081   35.323346  "
      ]
     },
     "execution_count": 55,
     "metadata": {},
     "output_type": "execute_result"
    }
   ],
   "source": [
    "error_metrics.cal_metric('Random Forest2', optimal_rf2)\n",
    "error_metrics.error_metric"
   ]
  },
  {
   "cell_type": "code",
   "execution_count": null,
   "metadata": {},
   "outputs": [],
   "source": []
  }
 ],
 "metadata": {
  "kernelspec": {
   "display_name": "Python 2",
   "language": "python",
   "name": "python2"
  },
  "language_info": {
   "codemirror_mode": {
    "name": "ipython",
    "version": 2
   },
   "file_extension": ".py",
   "mimetype": "text/x-python",
   "name": "python",
   "nbconvert_exporter": "python",
   "pygments_lexer": "ipython2",
   "version": "2.7.10"
  }
 },
 "nbformat": 4,
 "nbformat_minor": 1
}
